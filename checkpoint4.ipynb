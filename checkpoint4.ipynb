{
 "cells": [
  {
   "cell_type": "code",
   "execution_count": null,
   "id": "ba540b84",
   "metadata": {},
   "outputs": [],
   "source": [
    "#exercice 1\n",
    "a = int(input('entrez un premier nombre: '))\n",
    "b = int(input('entrez un deuxième nombre: '))\n",
    "c = int(input('entrez un troisième nombre: '))\n",
    "if b<=a>=c:\n",
    "    print('le plus grand nombre est: ', a )\n",
    "elif a<=b>=c:\n",
    "    print('le plus grand nombre est: ', b)\n",
    "else:\n",
    "    print('le plus grand nombre est: ', c)\n",
    "\n"
   ]
  },
  {
   "cell_type": "code",
   "execution_count": null,
   "id": "1f1dffec",
   "metadata": {},
   "outputs": [],
   "source": [
    "#exercice 2\n",
    "x = int(input('entrez un premier nombre: '))\n",
    "y = int(input('entrez un deuxième nombre: '))\n",
    "if x>y:\n",
    "    print(x+y,',',x-y)\n",
    "else:\n",
    "    print(x+y,',',y-x)\n",
    "\n",
    "\n",
    "    \n"
   ]
  },
  {
   "cell_type": "code",
   "execution_count": null,
   "id": "92871e9d",
   "metadata": {},
   "outputs": [],
   "source": [
    "#exercice 3\n",
    "\n",
    "#considérons la liste suivante\n",
    "exo3 = [1,2,4,5]\n",
    "\n",
    "#une fonction pour additionner tous les éléments de la liste\n",
    "\n",
    "def somme(exo3):\n",
    "    total=0\n",
    "    for i in exo3:\n",
    "        total+= i\n",
    "    return total\n",
    "print(somme(exo3))\n",
    "\n",
    "#une fonction pour multiplier tous les éléments de la liste\n",
    "def exo3_produit(exo3):\n",
    "    produit=1\n",
    "    for i in exo3:\n",
    "        produit = produit * i\n",
    "    return produit\n",
    "\n",
    "print(exo3_produit(exo3))\n",
    "\n",
    "# une fonction pour additionner les nombres pairs\n",
    "def somme(exo3):\n",
    "    total=0\n",
    "    for i in exo3:\n",
    "        if i%2==0:\n",
    "            total+= i\n",
    "    return total\n",
    "print(somme(exo3))\n",
    "# une fonction pour multiplier les nombres impairs\n",
    "def exo3_produit(exo3):\n",
    "    produit=1\n",
    "    for i in exo3:\n",
    "        if i%2!=0:\n",
    "            produit = produit * i\n",
    "    return produit\n",
    "\n",
    "print(exo3_produit(exo3))\n",
    "\n"
   ]
  },
  {
   "cell_type": "code",
   "execution_count": null,
   "id": "426c0e19",
   "metadata": {},
   "outputs": [],
   "source": [
    "#exercice 4\n",
    "exo4 = {'nom':'mbengue', 'prénom':'lamine'}\n",
    "\n",
    "exo4_ = [item[0] for item in exo4.values()]\n",
    "y = exo4_[0]\n",
    "def y():\n",
    "    for i in y:\n",
    "        return(i.capitalize())\n",
    "\n"
   ]
  },
  {
   "cell_type": "code",
   "execution_count": null,
   "id": "eac7ea6f",
   "metadata": {},
   "outputs": [],
   "source": [
    "#exercice 5: je n'ai pas réussi à le faire\n",
    "\n"
   ]
  },
  {
   "cell_type": "code",
   "execution_count": null,
   "id": "a3ece5b5",
   "metadata": {},
   "outputs": [],
   "source": [
    "#exercice 6\n",
    "\n",
    "print('entrez une série de mots séparés par un tiret: ')\n",
    "exo6= [n for n in input().split('-')]\n",
    "exo6.sort()\n",
    "print('-'.join(exo6))"
   ]
  },
  {
   "cell_type": "code",
   "execution_count": null,
   "id": "7ceec33d",
   "metadata": {},
   "outputs": [],
   "source": [
    "\n",
    "#exercice 7: je n'ai pas réussi à le faire "
   ]
  }
 ],
 "metadata": {
  "kernelspec": {
   "display_name": "Python 3 (ipykernel)",
   "language": "python",
   "name": "python3"
  },
  "language_info": {
   "codemirror_mode": {
    "name": "ipython",
    "version": 3
   },
   "file_extension": ".py",
   "mimetype": "text/x-python",
   "name": "python",
   "nbconvert_exporter": "python",
   "pygments_lexer": "ipython3",
   "version": "3.9.13"
  }
 },
 "nbformat": 4,
 "nbformat_minor": 5
}
